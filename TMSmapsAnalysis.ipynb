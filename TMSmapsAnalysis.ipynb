{
 "cells": [
  {
   "cell_type": "markdown",
   "metadata": {
    "heading_collapsed": true
   },
   "source": [
    "## <font color=green> **Imports**</font>"
   ]
  },
  {
   "cell_type": "code",
   "execution_count": 1,
   "metadata": {
    "hidden": true
   },
   "outputs": [],
   "source": [
    "%load_ext autoreload\n",
    "%autoreload 2\n",
    "from imports import *\n",
    "from utils import *\n",
    "from stats import *\n",
    "from tmstools import *\n",
    "plt.ioff()"
   ]
  },
  {
   "cell_type": "markdown",
   "metadata": {
    "heading_collapsed": true
   },
   "source": [
    "## <font color=green> **Reading MEP files**</font>"
   ]
  },
  {
   "cell_type": "code",
   "execution_count": 2,
   "metadata": {
    "hidden": true
   },
   "outputs": [],
   "source": [
    "# nSide - number of stimulation points along a side of a square grid\n",
    "# cellSize - the distance between two adjacent stimulation points\n",
    "# iX, iY - indices of coordinate axes used in the indexing of stimulation point locations\n",
    "\n",
    "nSide = 7; cellSize = 7.63; cellArea = cellSize**2; iX=0; iY=2;"
   ]
  },
  {
   "cell_type": "code",
   "execution_count": 3,
   "metadata": {
    "hidden": true
   },
   "outputs": [],
   "source": [
    "# read TMS mapping data from the file 'grid mappings.csv'\n",
    "# file format: index of subject, index of session, x, y, z (in mm), amplitude (in uV)\n",
    "# x, y, z - coordinates of the electric field maximum at the selected peeling depth\n",
    "\n",
    "data = np.loadtxt('grid mappings.csv', delimiter = ';')"
   ]
  },
  {
   "cell_type": "code",
   "execution_count": 4,
   "metadata": {
    "hidden": true
   },
   "outputs": [],
   "source": [
    "iSubjs = (np.unique(data[:,0])-1).astype(int)\n",
    "nSubj = len(iSubjs)\n",
    "iSessions = np.array(range(3))"
   ]
  },
  {
   "cell_type": "code",
   "execution_count": 5,
   "metadata": {
    "hidden": true
   },
   "outputs": [],
   "source": [
    "# make TMSmap objects from the lines of the file\n",
    "TMSmaps = [[TMSmap(curLines[:,2:5], curLines[:,5], nSide, iX, iY)\n",
    "             for curLines in [np.array([line for line in data if (line[0]==iSubj+1 and line[1] == iSess+1)])\n",
    "             for iSess in iSessions]]\n",
    "             for iSubj in iSubjs]"
   ]
  },
  {
   "cell_type": "code",
   "execution_count": 6,
   "metadata": {
    "hidden": true
   },
   "outputs": [
    {
     "data": {
      "text/plain": [
       "[[6, 0.0],\n",
       " [7, 0.0009],\n",
       " [8, 0.0043],\n",
       " [9, 0.0697],\n",
       " [10, 0.8861],\n",
       " [11, 0.0374],\n",
       " [12, 0.0017],\n",
       " [13, 0.0]]"
      ]
     },
     "execution_count": 6,
     "metadata": {},
     "output_type": "execute_result"
    }
   ],
   "source": [
    "# check deviations of the number of stimuli per cell due to operator error\n",
    "nStimCell = np.array([len(arr) for subj in TMSmaps for sess in subj for line in sess.ampl for arr in line])\n",
    "freqs, bins = np.histogram(nStimCell, density = True, bins = np.arange(-0.5,15.5,1))\n",
    "[[i,np.round(freqs[bins[:-1]==i-0.5][0],4)] for i in range(6,14)]"
   ]
  },
  {
   "cell_type": "markdown",
   "metadata": {
    "heading_collapsed": true
   },
   "source": [
    "## <font color=green> **Effect of grid size on representation coverage**</font>"
   ]
  },
  {
   "cell_type": "code",
   "execution_count": 3,
   "metadata": {
    "hidden": true
   },
   "outputs": [],
   "source": [
    "# read fractions of motor representations not covered by grids of different sizes\n",
    "# precomputed in the file 'fractions.xlsx'\n",
    "sheet = xlrd.open_workbook('Map coverage/fractions.xlsx').sheet_by_index(0)\n",
    "fracNotCov = np.zeros((10,121))\n",
    "for nCells in [5,6,7,8,9]:\n",
    "    fracNotCov[nCells] = np.array(sheet.col_values(3+(nCells-5)*3)[1:])\n",
    "nMaps = len(fracNotCov[5])\n",
    "sheet1 = xlrd.open_workbook('Map coverage/desc.xlsx').sheet_by_index(0)\n",
    "muscle = np.array(sheet1.col_values(1)[1:])"
   ]
  },
  {
   "cell_type": "code",
   "execution_count": 5,
   "metadata": {
    "hidden": true
   },
   "outputs": [],
   "source": [
    "# plot the fraction of all maps for which at least a given percentage of the representation\n",
    "# is covered by a grid of a given size\n",
    "for nCells in [5,6,7,8,9]:\n",
    "    percentageCovered = 100 * (1-np.sort(fracNotCov[nCells])[::-1])\n",
    "    fractionOfMaps = 1-np.arange(0,nMaps)/nMaps\n",
    "    plt.plot(percentageCovered, fractionOfMaps)\n",
    "plt.legend(['Grid side %2.0f mm, mean coverage: %2.1f%%'%(cellSize * nCells, 100*(1-np.mean(fracNotCov[nCells])))\n",
    "            for nCells in [5,6,7,8,9]])\n",
    "plt.xlabel('Percentage of representation covered'); plt.ylabel('Fraction of all maps');\n",
    "plt.grid(); plt.xlim(50,100); plt.ylim(0.3,1); setSize(5,5)\n",
    "plt.xticks(np.arange(50,105,5));plt.yticks(np.arange(0.3,1.05,0.05));\n",
    "plt.savefig('01 Percentages of representations covered by grids.png', dpi = 300, bbox_inches = 'tight')\n",
    "plt.close(plt.gcf())"
   ]
  },
  {
   "cell_type": "code",
   "execution_count": 9,
   "metadata": {
    "hidden": true
   },
   "outputs": [
    {
     "name": "stdout",
     "output_type": "stream",
     "text": [
      "KruskalResult(statistic=0.33726825300464724, pvalue=0.8448179433436528)\n",
      "KruskalResult(statistic=1.2667252147856558, pvalue=0.5308039115492833)\n",
      "KruskalResult(statistic=0.674343042681281, pvalue=0.7137863998022502)\n",
      "KruskalResult(statistic=0.8557865116182662, pvalue=0.6518809955944094)\n",
      "KruskalResult(statistic=0.5338159629205024, pvalue=0.7657435308250692)\n"
     ]
    }
   ],
   "source": [
    "# testing for differences between muscles\n",
    "for nCells in [5,6,7,8,9]:\n",
    "    print(scipy.stats.kruskal(fracNotCov[nCells,muscle=='FDS'],fracNotCov[nCells,muscle=='EDC'],fracNotCov[nCells,muscle=='APB']))"
   ]
  },
  {
   "cell_type": "markdown",
   "metadata": {
    "heading_collapsed": true
   },
   "source": [
    "## <font color=green> **Comparisons of MEPs within and between sessions**</font>"
   ]
  },
  {
   "cell_type": "code",
   "execution_count": 10,
   "metadata": {
    "hidden": true
   },
   "outputs": [],
   "source": [
    "# compare the MEP amplitudes in each grid cell:\n",
    "# 1) the first 5 amplitudes in each of two sessions, for 3 pairs of sessions (between sessions)\n",
    "# 2) the first and the last 5 amplitudes in each session (within a session)\n",
    "pairs = np.array([[0,1],[1,2],[0,2]])\n",
    "pBetweenSess = np.zeros((nSubj, 3, nSide, nSide))\n",
    "signDiffBetweenSess = np.zeros((nSubj, 3, nSide, nSide))\n",
    "pWithinSess = np.zeros((nSubj, 3, nSide, nSide))\n",
    "signDiffWithinSess = np.zeros((nSubj, 3, nSide, nSide))\n",
    "pThresh = 0.05\n",
    "for iSubj in range(nSubj):\n",
    "    for iPair,pair in enumerate(pairs):\n",
    "        for i in range(nSide):\n",
    "            for j in range(nSide):\n",
    "                arr1 = censorSmall(TMSmaps[iSubj][pair[0]].ampl[i,j])\n",
    "                arr2 = censorSmall(TMSmaps[iSubj][pair[1]].ampl[i,j])\n",
    "                [p, stat] = pAndStatGehanR(arr1[:5], arr2[:5])  # compare first halves of sessions\n",
    "                #[p, stat] = pAndStatGehanR(arr1[5:], arr2[5:])  # compare second halves of sessions\n",
    "                pBetweenSess[iSubj,iPair,i,j] = p\n",
    "                signDiffBetweenSess[iSubj,iPair,i,j] = (1 if stat > 0 else -1) if p < pThresh else 0\n",
    "for iSubj in range(nSubj):\n",
    "    for iSess in range(3):\n",
    "        for i in range(nSide):\n",
    "            for j in range(nSide):\n",
    "                arr1 = censorSmall(TMSmaps[iSubj][iSess].ampl[i,j][:5])\n",
    "                arr2 = censorSmall(TMSmaps[iSubj][iSess].ampl[i,j][5:])\n",
    "                [p, stat] = pAndStatGehanR(arr1, arr2)\n",
    "                pWithinSess[iSubj,iSess,i,j] = p\n",
    "                signDiffWithinSess[iSubj,iSess,i,j] = (1 if stat > 0 else -1) if p < pThresh else 0"
   ]
  },
  {
   "cell_type": "code",
   "execution_count": 11,
   "metadata": {
    "hidden": true
   },
   "outputs": [
    {
     "data": {
      "text/plain": [
       "57.0"
      ]
     },
     "execution_count": 11,
     "metadata": {},
     "output_type": "execute_result"
    }
   ],
   "source": [
    "# number of significant differences between sessions\n",
    "np.sum(abs(signDiffBetweenSess))"
   ]
  },
  {
   "cell_type": "code",
   "execution_count": 12,
   "metadata": {
    "hidden": true
   },
   "outputs": [
    {
     "data": {
      "text/plain": [
       "2.4045471980588395e-11"
      ]
     },
     "execution_count": 12,
     "metadata": {},
     "output_type": "execute_result"
    }
   ],
   "source": [
    "# Fisher's p-value synthesis to test the null hypothesis that there is no change in any of the cells.\n",
    "# The test is anti-concervative for positively dependent tests\n",
    "# (i.e. if MEPs in different cells are positively correlated),\n",
    "# so the true combined p-value is larger than the calculated result.\n",
    "scipy.stats.combine_pvalues([x for plane in pBetweenSess[:,1] for line in plane for x in line if ~np.isnan(x)])[1]"
   ]
  },
  {
   "cell_type": "code",
   "execution_count": 13,
   "metadata": {
    "hidden": true
   },
   "outputs": [
    {
     "data": {
      "text/plain": [
       "12.0"
      ]
     },
     "execution_count": 13,
     "metadata": {},
     "output_type": "execute_result"
    }
   ],
   "source": [
    "# number of significant differences within sessions\n",
    "np.sum(abs(signDiffWithinSess))"
   ]
  },
  {
   "cell_type": "code",
   "execution_count": 14,
   "metadata": {
    "hidden": true
   },
   "outputs": [
    {
     "data": {
      "text/plain": [
       "0.014635112568913795"
      ]
     },
     "execution_count": 14,
     "metadata": {},
     "output_type": "execute_result"
    }
   ],
   "source": [
    "# Fisher's p-value synthesis for the within-session changes\n",
    "scipy.stats.combine_pvalues([x for plane in pWithinSess[:,1] for line in plane for x in line if ~np.isnan(x)])[1]"
   ]
  },
  {
   "cell_type": "code",
   "execution_count": 15,
   "metadata": {
    "hidden": true
   },
   "outputs": [],
   "source": [
    "colors = [(0, 0, 1), (0.5, 0.5, 0.5), (1, 0, 0)] \n",
    "cMap = [(value/2, colour) for value, colour in zip(range(3),colors)]\n",
    "customColourMap = matplotlib.colors.LinearSegmentedColormap.from_list(\"custom\", cMap)"
   ]
  },
  {
   "cell_type": "code",
   "execution_count": 71,
   "metadata": {
    "hidden": true
   },
   "outputs": [],
   "source": [
    "f,ax = plt.subplots(nSubj,12)\n",
    "for iSubj in range(nSubj):\n",
    "    if iSubj == 0:\n",
    "        i = 1\n",
    "        ax[iSubj,i].set_title('Sess. 1',fontsize = 12); i+=1\n",
    "        ax[iSubj,i].set_title('Sess. 2',fontsize = 12); i+=1\n",
    "        ax[iSubj,i].set_title('Sess. 3',fontsize = 12); i+=2\n",
    "        ax[iSubj,i].set_title('Diff. 1-2',fontsize = 12); i+=1\n",
    "        ax[iSubj,i].set_title('Diff. 2-3',fontsize = 12); i+=1\n",
    "        ax[iSubj,i].set_title('Diff. 1-3',fontsize = 12); i+=2\n",
    "        ax[iSubj,i].set_title('Diff. 1',fontsize = 12); i+=1\n",
    "        ax[iSubj,i].set_title('Diff. 2',fontsize = 12); i+=1\n",
    "        ax[iSubj,i].set_title('Diff. 3',fontsize = 12); i+=1\n",
    "    i = 0\n",
    "    ax[iSubj,i].text(0.4,0.5,'Subj %d'%(iSubj+1), fontsize=10); i+=1\n",
    "    ax[iSubj,i].imshow(TMSmaps[iSubj][0].pPositive()[:,::-1], vmin=0, vmax=1); i+=1\n",
    "    ax[iSubj,i].imshow(TMSmaps[iSubj][1].pPositive()[:,::-1], vmin=0, vmax=1); i+=1\n",
    "    ax[iSubj,i].imshow(TMSmaps[iSubj][2].pPositive()[:,::-1], vmin=0, vmax=1); i+=2\n",
    "    ax[iSubj,i].imshow(signDiffBetweenSess[iSubj,0][:,::-1], cmap = customColourMap, vmin=-1, vmax=1); i+=1\n",
    "    ax[iSubj,i].imshow(signDiffBetweenSess[iSubj,1][:,::-1], cmap = customColourMap, vmin=-1, vmax=1); i+=1\n",
    "    ax[iSubj,i].imshow(signDiffBetweenSess[iSubj,2][:,::-1], cmap = customColourMap, vmin=-1, vmax=1); i+=2\n",
    "    ax[iSubj,i].imshow(signDiffWithinSess[iSubj,0][:,::-1], cmap = customColourMap, vmin=-1, vmax=1); i+=1\n",
    "    ax[iSubj,i].imshow(signDiffWithinSess[iSubj,1][:,::-1], cmap = customColourMap, vmin=-1, vmax=1); i+=1\n",
    "    ax[iSubj,i].imshow(signDiffWithinSess[iSubj,2][:,::-1], cmap = customColourMap, vmin=-1, vmax=1); i+=1\n",
    "ax1 = ax[0,2].imshow(TMSmaps[0][2].pPositive()[:,::-1], vmin=0, vmax=1)\n",
    "cbaxes = plt.gcf().add_axes([0.1, 0.125, 0.01, 0.4]) \n",
    "cb = plt.colorbar(ax1, cax = cbaxes)\n",
    "cbaxes.set_title('Fraction\\nof MEPs\\n>50 $\\mu$V\\n')\n",
    "[ax1.axis('off') for line in ax for ax1 in line]\n",
    "setSize(12,8)\n",
    "fs = 12; y = 2.05; va = 'center'\n",
    "plt.text(15, y, 'A. Maps', fontsize=fs, verticalalignment=va)\n",
    "plt.text(33, y, 'B. Differences between sessions', fontsize=fs, verticalalignment=va)\n",
    "plt.text(60, y, 'C. Differences within sessions\\n(between halves of a session)', fontsize=fs, verticalalignment=va)\n",
    "plt.savefig('02 Sessions & diff between and within.png', dpi = 300, bbox_inches='tight')\n",
    "plt.close(plt.gcf())"
   ]
  },
  {
   "cell_type": "markdown",
   "metadata": {
    "heading_collapsed": true
   },
   "source": [
    "## <font color=green> **Bootstrapping**</font>"
   ]
  },
  {
   "cell_type": "code",
   "execution_count": 17,
   "metadata": {
    "hidden": true
   },
   "outputs": [],
   "source": [
    "# generate maps by bootstrapping (with replacement) from each session of each subject\n",
    "nBootSamples = 1000\n",
    "nStimBoot = 10\n",
    "boots = np.array([[[randMapK(sess, nStimBoot) for sess in subj] for i in range(nBootSamples)] for subj in TMSmaps])"
   ]
  },
  {
   "cell_type": "code",
   "execution_count": 18,
   "metadata": {
    "hidden": true
   },
   "outputs": [],
   "source": [
    "nStims = np.array(range(1,nStimBoot+1))"
   ]
  },
  {
   "cell_type": "markdown",
   "metadata": {
    "heading_collapsed": true
   },
   "source": [
    "## <font color=green> **Bias of the area of the cells with at least half suprathreshold MEPs - illustration of non-monotonic dependence on the number of stimuli**</font>"
   ]
  },
  {
   "cell_type": "code",
   "execution_count": 19,
   "metadata": {
    "hidden": true
   },
   "outputs": [],
   "source": [
    "def pBinom(pThr,nStim,pTrue):\n",
    "# probability that a cell with the probability pTrue of suprathreshold MEP,\n",
    "# being stimulated by nStim stimuli, will produce at least pThr*nStim suprathreshold MEPs\n",
    "    return 1 - scipy.stats.binom.cdf(pThr*nStim,nStim,pTrue)"
   ]
  },
  {
   "cell_type": "code",
   "execution_count": 72,
   "metadata": {
    "hidden": true
   },
   "outputs": [],
   "source": [
    "# illustration of non-monotonic dependence of the bias on the number of stimuli:\n",
    "# dependence of the bias of the area of cells with more than half suprathreshold MEPs\n",
    "# for a model representation with two cells,\n",
    "# with probabilities of suprathreshold MEPs equal to 0.4 and 0.7\n",
    "pThr = 0.5; pTrue = np.array([0.4,0.7]); areaTrue = np.sum(pTrue>pThr); nStims0 = np.arange(1,100,1)\n",
    "meanAreas = np.array([np.sum([pBinom(pThr,nStim, p) for p in pTrue]) for nStim in nStims0])\n",
    "biases = meanAreas/areaTrue - 1\n",
    "f,ax = plt.subplots(3,1)\n",
    "ax[0].plot(nStims0, biases); ax[0].set_title('A. Bias of the area for a model map with two cells')\n",
    "ax[0].grid(); ax[0].set_xlabel('Number of stimuli per cell'); ax[0].set_ylabel('Normalized bias')\n",
    "meanAreasOfCell1 = np.array([pBinom(pThr,nStim, pTrue[0]) for nStim in nStims0])\n",
    "ax[1].plot(nStims0, meanAreasOfCell1); ax[1].set_title('B. Mean contribution of the 1st cell to the area, p(MEP) = 0.4')\n",
    "ax[1].grid(); ax[1].set_xlabel('Number of stimuli per cell'); ax[1].set_ylabel('Area estimate')\n",
    "meanAreasOfCell2 = np.array([pBinom(pThr,nStim, pTrue[1]) for nStim in nStims0])\n",
    "ax[2].plot(nStims0, meanAreasOfCell2); ax[2].set_title('C. Mean contribution of the 2nd cell to the area, p(MEP) = 0.7')\n",
    "ax[2].grid(); ax[2].set_xlabel('Number of stimuli per cell'); ax[2].set_ylabel('Area estimate')\n",
    "setSize(8,10)\n",
    "plt.subplots_adjust(hspace = 0.5)\n",
    "plt.savefig('14 Non-monotonic bias function for a model map.png', dpi = 300, bbox_inches = 'tight')\n",
    "plt.close(plt.gcf())"
   ]
  },
  {
   "cell_type": "code",
   "execution_count": 73,
   "metadata": {
    "hidden": true
   },
   "outputs": [],
   "source": [
    "# Spurious area difference due to the bias: a model representation with the same true area (=1),\n",
    "# but different mean estimates\n",
    "pTrue1 = np.array([0.1,0.6]); areaTrue1 = np.sum(pTrue>pThr)\n",
    "meanAreas1 = np.array([np.sum([pBinom(pThr,nStim, p) for p in pTrue1]) for nStim in nStims0])\n",
    "plt.plot(nStims0[:10], meanAreas[:10]);\n",
    "plt.plot(nStims0[:10], meanAreas1[:10]); plt.ylim(0,1.2)\n",
    "plt.xlabel('Number of stimuli per cell'); plt.ylabel('Mean area estimate');\n",
    "plt.legend(['First representation, p(MEP)=0.4, 0.7', 'Second representation, p(MEP)=0.1, 0.6']);\n",
    "plt.savefig('Spurious area difference due to the bias.png', dpi = 300, bbox_inches = 'tight')\n",
    "plt.close(plt.gcf())"
   ]
  },
  {
   "cell_type": "code",
   "execution_count": 22,
   "metadata": {
    "hidden": true
   },
   "outputs": [
    {
     "data": {
      "text/plain": [
       "1.15436"
      ]
     },
     "execution_count": 22,
     "metadata": {},
     "output_type": "execute_result"
    }
   ],
   "source": [
    "meanAreas[4]"
   ]
  },
  {
   "cell_type": "code",
   "execution_count": 23,
   "metadata": {
    "hidden": true
   },
   "outputs": [
    {
     "data": {
      "text/plain": [
       "0.6911199999999997"
      ]
     },
     "execution_count": 23,
     "metadata": {},
     "output_type": "execute_result"
    }
   ],
   "source": [
    "meanAreas1[4]"
   ]
  },
  {
   "cell_type": "code",
   "execution_count": 74,
   "metadata": {
    "hidden": true
   },
   "outputs": [],
   "source": [
    "# The spurious difference is eliminated only at large numbers of stimuli per cell\n",
    "plt.plot(nStims0, meanAreas);\n",
    "plt.plot(nStims0, meanAreas1); plt.ylim(0,1.2)\n",
    "plt.xlabel('Number of stimuli per cell'); plt.ylabel('Mean area estimate');\n",
    "plt.legend(['First representation, p(MEP)=0.4, 0.7', 'Second representation, p(MEP)=0.1, 0.6']);\n",
    "plt.savefig('Spurious area difference due to the bias, up to 100 stim.png', dpi = 300, bbox_inches = 'tight')\n",
    "plt.close(plt.gcf())"
   ]
  },
  {
   "cell_type": "code",
   "execution_count": 75,
   "metadata": {
    "hidden": true
   },
   "outputs": [
    {
     "data": {
      "text/plain": [
       "1.0219148943303238"
      ]
     },
     "execution_count": 75,
     "metadata": {},
     "output_type": "execute_result"
    }
   ],
   "source": [
    "meanAreas[98]"
   ]
  },
  {
   "cell_type": "code",
   "execution_count": 76,
   "metadata": {
    "hidden": true
   },
   "outputs": [
    {
     "data": {
      "text/plain": [
       "0.9780695578699149"
      ]
     },
     "execution_count": 76,
     "metadata": {},
     "output_type": "execute_result"
    }
   ],
   "source": [
    "meanAreas1[98]"
   ]
  },
  {
   "cell_type": "markdown",
   "metadata": {
    "heading_collapsed": true
   },
   "source": [
    "## <font color=green> **Bias of area within sessions**</font>"
   ]
  },
  {
   "cell_type": "code",
   "execution_count": 27,
   "metadata": {
    "hidden": true
   },
   "outputs": [],
   "source": [
    "# calculate and plot the relative bias values of the representation parameters\n",
    "# for the bootstrapping-generated maps with respect to the values from the initial maps"
   ]
  },
  {
   "cell_type": "code",
   "execution_count": 28,
   "metadata": {
    "hidden": true
   },
   "outputs": [],
   "source": [
    "meanMEPthrAreaRelBias = paramRelBiasArr(meanMEPthrArea, boots, TMSmaps)\n",
    "maxMEPthrAreaRelBias = paramRelBiasArr(maxMEPthrArea, boots, TMSmaps)\n",
    "probHalfThrAreaRelBias = paramRelBiasArr(probHalfThrArea, boots, TMSmaps)\n",
    "meanWareaRelBias = paramRelBiasArr(meanWarea, boots, TMSmaps)\n",
    "probWareaRelBias = paramRelBiasArr(probWarea, boots, TMSmaps)"
   ]
  },
  {
   "cell_type": "code",
   "execution_count": 77,
   "metadata": {
    "hidden": true
   },
   "outputs": [],
   "source": [
    "f,ax = plt.subplots(); plt.sca(ax)\n",
    "color = next(ax._get_lines.prop_cycler)['color']\n",
    "allMapsMedianPlot(meanMEPthrAreaRelBias, col = color)\n",
    "color = next(ax._get_lines.prop_cycler)['color']\n",
    "allMapsMedianPlot(maxMEPthrAreaRelBias, col = color)\n",
    "color = next(ax._get_lines.prop_cycler)['color']\n",
    "allMapsMedianPlot(probHalfThrAreaRelBias, isEvenNstim = True, col = color)\n",
    "allMapsMedianPlot(probHalfThrAreaRelBias, isOddNstim = True, col = color, linestyle = '--')\n",
    "color = next(ax._get_lines.prop_cycler)['color']\n",
    "allMapsMedianPlot(meanWareaRelBias, col = color)\n",
    "color = next(ax._get_lines.prop_cycler)['color']\n",
    "allMapsMedianPlot(probWareaRelBias, col = color)\n",
    "plt.legend(['Area of cells with mean MEP > 50 $\\mu$V',\n",
    "            'Area of cells with max MEP > 50 $\\mu$V',\n",
    "            'Area of cells with more than half MEPs > 50 $\\mu$V (even n. stim.)',\n",
    "            'Area of cells with more than half MEPs > 50 $\\mu$V (odd n. stim.)',\n",
    "            'Area weighted by mean MEP','Area weighted by probability of MEP > 50 $\\mu$V'],\n",
    "           loc = 'lower right')\n",
    "plt.ylabel('Normalized bias')\n",
    "plt.xlim(0,11); plt.xticks(range(1,11))\n",
    "#plt.ylim(-0.65,0.1);\n",
    "plt.ylim(-0.65,0.4);\n",
    "setSize(7.5,6.5); plt.grid()\n",
    "plt.tight_layout()\n",
    "plt.savefig('03 Within-session bias for area parameters.png', dpi = 300)\n",
    "plt.close(plt.gcf())"
   ]
  },
  {
   "cell_type": "code",
   "execution_count": 30,
   "metadata": {
    "hidden": true
   },
   "outputs": [],
   "source": [
    "# Illustration of bias heterogeneity\n",
    "# Plotting biases for individual mapping sessions in all subjects"
   ]
  },
  {
   "cell_type": "code",
   "execution_count": 78,
   "metadata": {
    "hidden": true
   },
   "outputs": [],
   "source": [
    "for iSubj in iSubjs:\n",
    "    for iSess in iSessions:\n",
    "        plt.plot(nStims, meanMEPthrAreaRelBias[nStims,iSubj,iSess])\n",
    "plt.xlabel('Number of stimuli per grid cell'); plt.ylabel('Normalized bias')\n",
    "plt.xlim(0,11); plt.grid(); plt.ylim(None,0.3);\n",
    "plt.tight_layout(); \n",
    "plt.savefig('09 Within-session bias for mean MEP-thresholded area.png', dpi = 300)\n",
    "plt.close(plt.gcf())"
   ]
  },
  {
   "cell_type": "code",
   "execution_count": 79,
   "metadata": {
    "hidden": true
   },
   "outputs": [],
   "source": [
    "for iSubj in iSubjs:\n",
    "    for iSess in iSessions:\n",
    "        plt.plot(nStims, maxMEPthrAreaRelBias[nStims,iSubj,iSess])\n",
    "plt.xlabel('Number of stimuli per grid cell'); plt.ylabel('Normalized bias')\n",
    "plt.xlim(0,11); plt.grid(); plt.ylim(None,0.1);\n",
    "plt.tight_layout(); \n",
    "plt.savefig('10 Within-session bias for max MEP-thresholded area.png', dpi = 300)\n",
    "plt.close(plt.gcf())"
   ]
  },
  {
   "cell_type": "code",
   "execution_count": 80,
   "metadata": {
    "hidden": true
   },
   "outputs": [],
   "source": [
    "for iSubj in iSubjs:\n",
    "    for iSess in iSessions:\n",
    "        plt.plot(nStims, probHalfThrAreaRelBias[nStims,iSubj,iSess])\n",
    "plt.xlabel('Number of stimuli per grid cell'); plt.ylabel('Normalized bias')\n",
    "plt.xlim(0,11); plt.grid();  plt.ylim(None,2.1);\n",
    "plt.tight_layout(); \n",
    "plt.savefig('11 Within-session bias for area with more than half suprathreshold MEPs.png', dpi = 300)\n",
    "plt.close(plt.gcf())"
   ]
  },
  {
   "cell_type": "code",
   "execution_count": 81,
   "metadata": {
    "hidden": true
   },
   "outputs": [],
   "source": [
    "for iSubj in iSubjs:\n",
    "    for iSess in iSessions:\n",
    "        plt.plot(nStims, meanWareaRelBias[nStims,iSubj,iSess])\n",
    "plt.xlabel('Number of stimuli per grid cell'); plt.ylabel('Normalized bias')\n",
    "plt.xlim(0,11); plt.grid();  plt.ylim(None,None);\n",
    "plt.tight_layout(); \n",
    "plt.savefig('12 Within-session bias for mean MEP-weighted area.png', dpi = 300)\n",
    "plt.close(plt.gcf())"
   ]
  },
  {
   "cell_type": "code",
   "execution_count": 82,
   "metadata": {
    "hidden": true
   },
   "outputs": [],
   "source": [
    "for iSubj in iSubjs:\n",
    "    for iSess in iSessions:\n",
    "        plt.plot(nStims, probWareaRelBias[nStims,iSubj,iSess])\n",
    "plt.xlabel('Number of stimuli per grid cell'); plt.ylabel('Normalized bias')\n",
    "plt.xlim(0,11); plt.grid();  plt.ylim(None,None);\n",
    "plt.tight_layout(); \n",
    "plt.savefig('13 Within-session bias for probability-weighted area.png', dpi = 300)\n",
    "plt.close(plt.gcf())"
   ]
  },
  {
   "cell_type": "markdown",
   "metadata": {
    "heading_collapsed": true
   },
   "source": [
    "## <font color=green> **CV of area within sessions**</font>"
   ]
  },
  {
   "cell_type": "code",
   "execution_count": 36,
   "metadata": {
    "hidden": true
   },
   "outputs": [],
   "source": [
    "# calculate and plot the CV of the representation parameters for the bootstrapping-generated maps"
   ]
  },
  {
   "cell_type": "code",
   "execution_count": 37,
   "metadata": {
    "hidden": true
   },
   "outputs": [],
   "source": [
    "meanMEPthrAreaCV = paramCVarr(meanMEPthrArea, boots)\n",
    "maxMEPthrAreaCV = paramCVarr(maxMEPthrArea, boots)\n",
    "probHalfThrAreaCV = paramCVarr(probHalfThrArea, boots)\n",
    "meanWareaCV = paramCVarr(meanWarea, boots)\n",
    "probWareaCV = paramCVarr(probWarea, boots)"
   ]
  },
  {
   "cell_type": "code",
   "execution_count": 83,
   "metadata": {
    "hidden": true
   },
   "outputs": [],
   "source": [
    "lastNstim = 10\n",
    "f,ax = plt.subplots(); plt.sca(ax)\n",
    "color = next(ax._get_lines.prop_cycler)['color']\n",
    "allMapsMedianPlot(meanMEPthrAreaCV, col = color)\n",
    "color = next(ax._get_lines.prop_cycler)['color']\n",
    "allMapsMedianPlot(maxMEPthrAreaCV, col = color)\n",
    "color = next(ax._get_lines.prop_cycler)['color']\n",
    "allMapsMedianPlot(probHalfThrAreaCV, isEvenNstim = True, col = color)\n",
    "allMapsMedianPlot(probHalfThrAreaCV, isOddNstim = True, col = color, linestyle = '--')\n",
    "color = next(ax._get_lines.prop_cycler)['color']\n",
    "allMapsMedianPlot(meanWareaCV, col = color)\n",
    "color = next(ax._get_lines.prop_cycler)['color']\n",
    "allMapsMedianPlot(probWareaCV, col = color)\n",
    "plt.legend(['Area of cells with mean MEP > 50 $\\mu$V',\n",
    "            'Area of cells with max MEP > 50 $\\mu$V', \n",
    "            'Area of cells with more than half MEPs > 50 $\\mu$V (even n. stim.)',\n",
    "            'Area of cells with more than half MEPs > 50 $\\mu$V (odd n. stim.)',\n",
    "            'Area weighted by mean MEP',\n",
    "            'Area weighted by probability of MEP > 50 $\\mu$V'],\n",
    "           loc = 'upper right')\n",
    "plt.ylabel('CV within session')\n",
    "plt.xlim(0,nStimBoot+1); plt.ylim(0,0.6); plt.xticks(range(1,nStimBoot+1))\n",
    "setSize(7,6); plt.grid()\n",
    "plt.tight_layout()\n",
    "plt.savefig('04 Within-session CV for area parameters.png', dpi = 300)\n",
    "plt.close(plt.gcf())"
   ]
  },
  {
   "cell_type": "code",
   "execution_count": 39,
   "metadata": {
    "hidden": true
   },
   "outputs": [
    {
     "name": "stdout",
     "output_type": "stream",
     "text": [
      "meanMEPthrAreaCV - Page: \"<=.001\", Friedman: 6.2e-12\n",
      "maxMEPthrAreaCV - Page: \"<=.001\", Friedman: 6.2e-12\n",
      "probHalfThrAreaCV - Page: \"<=.001\", Friedman: 1.9e-06\n",
      "probWareaCV - Page: \"<=.001\", Friedman: 6.2e-12\n",
      "meanWareaCV - Page: \"<=.001\", Friedman: 6.2e-12\n"
     ]
    }
   ],
   "source": [
    "# test for decrease with the number of stimuli\n",
    "print('meanMEPthrAreaCV -', PageAndFriedmanTestsForMeansBySessions(meanMEPthrAreaCV))\n",
    "print('maxMEPthrAreaCV -', PageAndFriedmanTestsForMeansBySessions(maxMEPthrAreaCV))\n",
    "print('probHalfThrAreaCV -', PageAndFriedmanTestsForMeansBySessions(probHalfThrAreaCV, isEvenNstim = True))\n",
    "print('probWareaCV -', PageAndFriedmanTestsForMeansBySessions(probWareaCV))\n",
    "print('meanWareaCV -', PageAndFriedmanTestsForMeansBySessions(meanWareaCV))"
   ]
  },
  {
   "cell_type": "markdown",
   "metadata": {
    "heading_collapsed": true
   },
   "source": [
    "## <font color=green> **Total within-session accuracy**</font>"
   ]
  },
  {
   "cell_type": "code",
   "execution_count": 40,
   "metadata": {
    "hidden": true
   },
   "outputs": [],
   "source": [
    "meanMEPthrAreaRMSDs = paramRelRMSDarr(meanMEPthrArea, boots, TMSmaps)\n",
    "maxMEPthrAreaRMSDs = paramRelRMSDarr(maxMEPthrArea, boots, TMSmaps)\n",
    "probHalfThrAreaRMSDs = paramRelRMSDarr(probHalfThrArea, boots, TMSmaps)\n",
    "probWareaRMSDs = paramRelRMSDarr(probWarea, boots, TMSmaps)\n",
    "meanWareaRMSDs = paramRelRMSDarr(meanWarea, boots, TMSmaps)"
   ]
  },
  {
   "cell_type": "code",
   "execution_count": 41,
   "metadata": {
    "hidden": true
   },
   "outputs": [
    {
     "data": {
      "text/plain": [
       "[0.14354036048423427,\n",
       " 0.10655321468261995,\n",
       " 0.36471333510179743,\n",
       " 0.15836387351257794,\n",
       " 0.07980229538709084]"
      ]
     },
     "execution_count": 41,
     "metadata": {},
     "output_type": "execute_result"
    }
   ],
   "source": [
    "# Total accuracies for nStim = 10\n",
    "[np.mean(meanMEPthrAreaRMSDs[10]), np.mean(maxMEPthrAreaRMSDs[10]),np.mean(probHalfThrAreaRMSDs[10]),\n",
    " np.mean(meanWareaRMSDs[10]),np.mean(probWareaRMSDs[10])]"
   ]
  },
  {
   "cell_type": "code",
   "execution_count": 42,
   "metadata": {
    "hidden": true
   },
   "outputs": [
    {
     "data": {
      "text/plain": [
       "[0.1860379978224549,\n",
       " 0.22800475031297426,\n",
       " 0.43998172357484183,\n",
       " 0.22924269218469684,\n",
       " 0.1150624266251459]"
      ]
     },
     "execution_count": 42,
     "metadata": {},
     "output_type": "execute_result"
    }
   ],
   "source": [
    "# Total accuracies averaged by all nStim\n",
    "[np.mean(meanMEPthrAreaRMSDs), np.mean(maxMEPthrAreaRMSDs),np.mean(probHalfThrAreaRMSDs),\n",
    " np.mean(meanWareaRMSDs),np.mean(probWareaRMSDs)]"
   ]
  },
  {
   "cell_type": "markdown",
   "metadata": {
    "heading_collapsed": true
   },
   "source": [
    "## <font color=green> **Variability of area between sessions**</font>"
   ]
  },
  {
   "cell_type": "code",
   "execution_count": 43,
   "metadata": {
    "hidden": true
   },
   "outputs": [],
   "source": [
    "# calculate and plot the the values of the between-session variability index\n",
    "# (defined as half the relative difference between max and min among the sessions)"
   ]
  },
  {
   "cell_type": "code",
   "execution_count": 44,
   "metadata": {
    "hidden": true
   },
   "outputs": [],
   "source": [
    "meanMEPthrAreaVar = paramHalfRelDiffArr(meanMEPthrArea, boots)\n",
    "maxMEPthrAreaVar = paramHalfRelDiffArr(maxMEPthrArea, boots)\n",
    "probHalfThrAreaVar = paramHalfRelDiffArr(probHalfThrArea, boots)\n",
    "meanWareaVar = paramHalfRelDiffArr(meanWarea, boots)\n",
    "probWareaVar = paramHalfRelDiffArr(probWarea, boots)"
   ]
  },
  {
   "cell_type": "code",
   "execution_count": 84,
   "metadata": {
    "hidden": true
   },
   "outputs": [],
   "source": [
    "f,ax = plt.subplots(); plt.sca(ax)\n",
    "color = next(ax._get_lines.prop_cycler)['color']\n",
    "medianPlot(meanMEPthrAreaVar, col = color)\n",
    "color = next(ax._get_lines.prop_cycler)['color']\n",
    "medianPlot(maxMEPthrAreaVar, col = color)\n",
    "color = next(ax._get_lines.prop_cycler)['color']\n",
    "medianPlot(probHalfThrAreaVar, isEvenNstim = True, col = color)\n",
    "medianPlot(probHalfThrAreaVar, isOddNstim = True, col = color, linestyle = '--')\n",
    "color = next(ax._get_lines.prop_cycler)['color']\n",
    "medianPlot(meanWareaVar, col = color)\n",
    "color = next(ax._get_lines.prop_cycler)['color']\n",
    "medianPlot(probWareaVar, col = color)\n",
    "plt.legend(['Area of cells with mean MEP>50$\\mu$V',\n",
    "            'Area of cells with max MEP>50$\\mu$V',\n",
    "            'Area of cells with more than half MEPs > 50 $\\mu$V (even n. stim.)',\n",
    "            'Area of cells with more than half MEPs > 50 $\\mu$V (odd n. stim.)',\n",
    "            'Area weighted by mean MEP', 'Area weighted by probability of MEP > 50$\\mu$V'])\n",
    "plt.ylim(0,0.8);\n",
    "setSize(7,7); plt.grid()\n",
    "plt.ylabel('Between-session variability index')\n",
    "plt.xticks(range(1,11));\n",
    "plt.savefig('05 Between-session variability vs num stim.png', dpi = 300, bbox_inches = 'tight')\n",
    "plt.close(plt.gcf())"
   ]
  },
  {
   "cell_type": "code",
   "execution_count": 46,
   "metadata": {
    "hidden": true
   },
   "outputs": [
    {
     "name": "stdout",
     "output_type": "stream",
     "text": [
      "meanMEPthrAreaVar - Page: \"<=.001\", Friedman: 1.0e-05\n",
      "maxMEPthrAreaVar - Page: \"<=.001\", Friedman: 5.8e-07\n",
      "probHalfThrAreaVar - Page: \"<=.001\", Friedman: 1.9e-05\n",
      "meanWareaVar - Page: \"<=.001\", Friedman: 1.6e-06\n",
      "probWareaVar - Page: \"<=.001\", Friedman: 1.1e-11\n"
     ]
    }
   ],
   "source": [
    "# test for decrease with the number of stimuli\n",
    "print('meanMEPthrAreaVar -', PageAndFriedmanTests(meanMEPthrAreaVar))\n",
    "print('maxMEPthrAreaVar -', PageAndFriedmanTests(maxMEPthrAreaVar))\n",
    "print('probHalfThrAreaVar -', PageAndFriedmanTests(probHalfThrAreaVar, isEvenNstim = True))\n",
    "print('meanWareaVar -', PageAndFriedmanTests(meanWareaVar))\n",
    "print('probWareaVar -', PageAndFriedmanTests(probWareaVar))"
   ]
  },
  {
   "cell_type": "code",
   "execution_count": 47,
   "metadata": {
    "hidden": true
   },
   "outputs": [
    {
     "name": "stdout",
     "output_type": "stream",
     "text": [
      "probHalfThrAreaVar, odd nStim - Page: \"NS\", Friedman: 8.6e-01\n"
     ]
    }
   ],
   "source": [
    "print('probHalfThrAreaVar, odd nStim -', PageAndFriedmanTests(probHalfThrAreaVar, isOddNstim = True))"
   ]
  },
  {
   "cell_type": "markdown",
   "metadata": {
    "heading_collapsed": true
   },
   "source": [
    "## <font color=green> **Distributions of probability-weighted area in sessions**</font>"
   ]
  },
  {
   "cell_type": "code",
   "execution_count": 48,
   "metadata": {
    "hidden": true
   },
   "outputs": [],
   "source": [
    "# Compute and plot the distributions of the probability-weighted area in the maps generated by\n",
    "# boostrapping from each session of each subject.\n",
    "# The subplot titles show the distribution overlaps\n",
    "# and the values of the bootstrapping-based between-session intraclass correlation coefficient,\n",
    "# which measures the ability to discriminate between sessions in the presence of within-session inaccuracy"
   ]
  },
  {
   "cell_type": "code",
   "execution_count": 85,
   "metadata": {
    "hidden": true
   },
   "outputs": [],
   "source": [
    "probWareaArr = paramArrForNstim(probWarea, boots)\n",
    "plotParamHists(probWareaArr, probWarea, TMSmaps, xlab = 'Area weighted by probability of MEP>50 $\\mu$V, $mm^2$', unit = cellArea)\n",
    "\n",
    "plt.savefig('06 Histograms with BICC and overlaps.png', dpi = 300)\n",
    "plt.close(plt.gcf())"
   ]
  },
  {
   "cell_type": "code",
   "execution_count": 50,
   "metadata": {
    "hidden": true
   },
   "outputs": [],
   "source": [
    "# Plotting BICC as a function of the number of stimuli per cell"
   ]
  },
  {
   "cell_type": "code",
   "execution_count": 51,
   "metadata": {
    "hidden": true
   },
   "outputs": [],
   "source": [
    "probWareaArrs = np.array([paramArrForNstim(probWarea, boots, takeFirst=nSt) for nSt in nStims])"
   ]
  },
  {
   "cell_type": "code",
   "execution_count": 52,
   "metadata": {
    "hidden": true
   },
   "outputs": [],
   "source": [
    "BICCs = np.array([np.median([ICConeWay(subj) for subj in arr]) for arr in probWareaArrs])"
   ]
  },
  {
   "cell_type": "code",
   "execution_count": 87,
   "metadata": {
    "hidden": true
   },
   "outputs": [],
   "source": [
    "plt.plot(nStims, BICCs,'o-')\n",
    "plt.xlabel('Number of stimuli per grid cell'); plt.xlim(0,11)\n",
    "plt.ylabel('BICC'); plt.ylim(0,1)\n",
    "plt.grid();\n",
    "plt.savefig('BICC as a function of the number of stimuli per cell.png', dpi = 300)\n",
    "plt.close(plt.gcf())"
   ]
  },
  {
   "cell_type": "code",
   "execution_count": 54,
   "metadata": {
    "hidden": true
   },
   "outputs": [],
   "source": [
    "# - detailed mapping is able to find significant area changes at the individual level"
   ]
  },
  {
   "cell_type": "markdown",
   "metadata": {
    "heading_collapsed": true
   },
   "source": [
    "## <font color=green> **Bootstrapping-based between-session ICC for area variants**</font>"
   ]
  },
  {
   "cell_type": "code",
   "execution_count": 55,
   "metadata": {
    "hidden": true
   },
   "outputs": [],
   "source": [
    "meanMEPthrAreaArr = paramArrForNstim(meanMEPthrArea, boots)\n",
    "maxMEPthrAreaArr = paramArrForNstim(maxMEPthrArea, boots)\n",
    "probHalfThrAreaArr = paramArrForNstim(probHalfThrArea, boots)\n",
    "meanWareaArr = paramArrForNstim(meanWarea, boots)"
   ]
  },
  {
   "cell_type": "code",
   "execution_count": 56,
   "metadata": {
    "hidden": true
   },
   "outputs": [],
   "source": [
    "def ICCarr(arrs):\n",
    "    return np.array([ICConeWay(subj) for subj in arrs])"
   ]
  },
  {
   "cell_type": "code",
   "execution_count": 88,
   "metadata": {
    "hidden": true
   },
   "outputs": [],
   "source": [
    "plt.plot(iSubjs+1, ICCarr(meanMEPthrAreaArr));\n",
    "plt.plot(iSubjs+1, ICCarr(maxMEPthrAreaArr));\n",
    "plt.plot(iSubjs+1, ICCarr(probHalfThrAreaArr));\n",
    "plt.plot(iSubjs+1, ICCarr(meanWareaArr));\n",
    "plt.plot(iSubjs+1, ICCarr(probWareaArr));\n",
    "plt.legend(['Area of cells with mean MEP>50$\\mu$V',\n",
    "            'Area of cells with max MEP>50$\\mu$V',\n",
    "            'Area of cells with more than half MEPs > 50 $\\mu$V',\n",
    "            'Area weighted by mean MEP', 'Area weighted by probability of MEP>50$\\mu$V'])\n",
    "plt.ylim(0,1.1);\n",
    "setSize(7,5); plt.grid()\n",
    "plt.xlabel('Subject number'); plt.ylabel('BICC')\n",
    "plt.savefig('07 BICC for all parameters.png', dpi = 300, bbox_inches = 'tight')\n",
    "plt.close(plt.gcf())"
   ]
  },
  {
   "cell_type": "markdown",
   "metadata": {
    "heading_collapsed": true
   },
   "source": [
    "## <font color=green> **Accuracy of COGs within sessions**</font>"
   ]
  },
  {
   "cell_type": "code",
   "execution_count": 58,
   "metadata": {
    "hidden": true
   },
   "outputs": [],
   "source": [
    "# compute and plot the accuracy of the COGs with 3 alternative weight definitions\n",
    "# (the accuracy is defined as the mean distance between the COGs of the bootstrapping-generated maps\n",
    "# and the COGs of the initial maps)"
   ]
  },
  {
   "cell_type": "code",
   "execution_count": 59,
   "metadata": {
    "hidden": true
   },
   "outputs": [],
   "source": [
    "distCOGbyMean = vecParamMeanDistFromTrue(COGbyMean, boots, TMSmaps)\n",
    "distCOGbyMax = vecParamMeanDistFromTrue(COGbyMax, boots, TMSmaps)\n",
    "distCOGbyProb = vecParamMeanDistFromTrue(COGbyProb, boots, TMSmaps)"
   ]
  },
  {
   "cell_type": "code",
   "execution_count": 89,
   "metadata": {
    "hidden": true
   },
   "outputs": [],
   "source": [
    "p1 = allMapsMedianPlot(cellSize * distCOGbyMean, label = 'COG weighted by mean MEP amplitude')\n",
    "p2 = allMapsMedianPlot(cellSize * distCOGbyMax, label = 'COG weighted by max MEP amplitude')\n",
    "plt.plot([],[]) # halfProb\n",
    "plt.plot([],[]) # mean-w\n",
    "p3 = allMapsMedianPlot(cellSize * distCOGbyProb, label = 'COG weighted by probability of MEP>50 $\\mu$V')\n",
    "plt.legend()\n",
    "plt.ylabel('Mean error, mm')\n",
    "plt.ylim(0,4); plt.xticks(range(11)); plt.xlim(0,11)\n",
    "setSize(6,4); plt.grid(); \n",
    "plt.tight_layout()\n",
    "plt.savefig('08 Within-session errors in COG.png', dpi = 300)\n",
    "plt.close(plt.gcf())"
   ]
  },
  {
   "cell_type": "code",
   "execution_count": 61,
   "metadata": {
    "hidden": true
   },
   "outputs": [
    {
     "name": "stdout",
     "output_type": "stream",
     "text": [
      "distCOGbyMean - Page: \"<=.001\", Friedman: 6.2e-12\n",
      "distCOGbyMax - Page: \"<=.001\", Friedman: 6.2e-12\n",
      "distCOGbyProb - Page: \"<=.001\", Friedman: 6.2e-12\n"
     ]
    }
   ],
   "source": [
    "# test for decrease with the number of stimuli\n",
    "print('distCOGbyMean -', PageAndFriedmanTestsForMeansBySessions(distCOGbyMean))\n",
    "print('distCOGbyMax -', PageAndFriedmanTestsForMeansBySessions(distCOGbyMax))\n",
    "print('distCOGbyProb -', PageAndFriedmanTestsForMeansBySessions(distCOGbyProb))"
   ]
  },
  {
   "cell_type": "code",
   "execution_count": 62,
   "metadata": {
    "hidden": true
   },
   "outputs": [
    {
     "name": "stdout",
     "output_type": "stream",
     "text": [
      "3.4e-04\n",
      "3.4e-04\n",
      "8.0e-04\n",
      "8.0e-04\n",
      "8.0e-04\n",
      "2.1e-02\n",
      "3.4e-02\n",
      "3.4e-02\n",
      "9.3e-02\n",
      "2.0e-01\n"
     ]
    }
   ],
   "source": [
    "# test for differences between the three COG definitions\n",
    "# the accuracies are averaged by the three sessions in each subject to obtain independent values\n",
    "for nStim in range(1,11):\n",
    "    print('%2.1e'%scipy.stats.friedmanchisquare(np.mean(distCOGbyMean[nStim], axis = 1),\n",
    "                                                np.mean(distCOGbyMax[nStim], axis = 1),\n",
    "                                                np.mean(distCOGbyProb[nStim], axis = 1))[1])"
   ]
  }
 ],
 "metadata": {
  "kernelspec": {
   "display_name": "Python 3",
   "language": "python",
   "name": "python3"
  },
  "language_info": {
   "codemirror_mode": {
    "name": "ipython",
    "version": 3
   },
   "file_extension": ".py",
   "mimetype": "text/x-python",
   "name": "python",
   "nbconvert_exporter": "python",
   "pygments_lexer": "ipython3",
   "version": "3.7.2"
  },
  "toc": {
   "colors": {
    "hover_highlight": "#DAA520",
    "navigate_num": "#000000",
    "navigate_text": "#333333",
    "running_highlight": "#FF0000",
    "selected_highlight": "#FFD700",
    "sidebar_border": "#EEEEEE",
    "wrapper_background": "#FFFFFF"
   },
   "moveMenuLeft": true,
   "nav_menu": {
    "height": "211px",
    "width": "252px"
   },
   "navigate_menu": true,
   "number_sections": true,
   "sideBar": true,
   "threshold": 4,
   "toc_cell": false,
   "toc_section_display": "block",
   "toc_window_display": false,
   "widenNotebook": false
  }
 },
 "nbformat": 4,
 "nbformat_minor": 2
}
